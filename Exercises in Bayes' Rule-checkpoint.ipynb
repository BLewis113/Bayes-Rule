{
 "cells": [
  {
   "cell_type": "markdown",
   "metadata": {},
   "source": [
    "If person has disease 98% chance for positive result.\n",
    "If person does not have disease 10% chance for positive result.\n",
    ".5% of people have disease"
   ]
  },
  {
   "cell_type": "markdown",
   "metadata": {},
   "source": [
    "1) Be Positive \n",
    "\n",
    "Chance of positive person being positive plus chance of negitive person being positive.\n",
    "\n",
    "(.005 * .98) + (.995 * .1) = .1044 = 10.44% chance of having a positive result\n",
    "\n"
   ]
  },
  {
   "cell_type": "markdown",
   "metadata": {},
   "source": [
    "2) Correctly diagnose a sufferer of Thripshaw's\n",
    "\n",
    "Chance of a person with the disease getting a positive result.\n",
    "\n",
    "(.005 * .98) = .0049 = .49%\n",
    "\n",
    "P(Positive test is correct) = ((chance of infected having positive test) * (infected population)) / (((infected population) * (chance of infected having positive test)) + ((non-infected population)* (chance of false positive))\n",
    "\n",
    "(.98 * .005) / ((.oo5 * .98) + (.995 * .1)) = 4.6%"
   ]
  },
  {
   "cell_type": "markdown",
   "metadata": {},
   "source": [
    "3) Correctly identify a non-sufferer of Thripshaw's\n",
    "\n",
    "Chance of a non-sufferer getting a negative result.\n",
    "\n",
    "(.995 * .9) = .8955 = 89.55% chance that a person without the disease gets a negative result\n",
    "\n",
    "P(Negative test is correct) = ((chance of non-infected having negative test) * (non-infected population)) / (((non-infected population) * (chance of non-infected having negative test)) + ((infected population)* (chance of false negative))\n",
    "\n",
    "(.9 * .995) / ((.995 * .9) + (.005 * .02) = .99988 = 99.998%"
   ]
  },
  {
   "cell_type": "markdown",
   "metadata": {},
   "source": [
    "4) Misclassify the person\n",
    "\n",
    "Chance of a positive person getting a negative result plus chance of a negative person getting a positive.\n",
    "\n",
    "(.005 * .02) + (.995 * .1) = .0996 = 9.96% chance of being misclassified. "
   ]
  }
 ],
 "metadata": {
  "kernelspec": {
   "display_name": "Python 3",
   "language": "python",
   "name": "python3"
  },
  "language_info": {
   "codemirror_mode": {
    "name": "ipython",
    "version": 3
   },
   "file_extension": ".py",
   "mimetype": "text/x-python",
   "name": "python",
   "nbconvert_exporter": "python",
   "pygments_lexer": "ipython3",
   "version": "3.7.1"
  }
 },
 "nbformat": 4,
 "nbformat_minor": 2
}
